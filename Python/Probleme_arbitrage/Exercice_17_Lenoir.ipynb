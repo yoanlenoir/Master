{
 "cells": [
  {
   "cell_type": "code",
   "execution_count": 2,
   "metadata": {},
   "outputs": [],
   "source": [
    "import fonctions as fct\n",
    "from rich import print\n",
    "from importlib import reload"
   ]
  },
  {
   "cell_type": "code",
   "execution_count": 1,
   "metadata": {},
   "outputs": [
    {
     "ename": "NameError",
     "evalue": "name 'reload' is not defined",
     "output_type": "error",
     "traceback": [
      "\u001b[1;31m---------------------------------------------------------------------------\u001b[0m",
      "\u001b[1;31mNameError\u001b[0m                                 Traceback (most recent call last)",
      "\u001b[1;32m<ipython-input-1-1bbd0b44ab02>\u001b[0m in \u001b[0;36m<module>\u001b[1;34m\u001b[0m\n\u001b[1;32m----> 1\u001b[1;33m \u001b[0mreload\u001b[0m\u001b[1;33m(\u001b[0m\u001b[0mfct\u001b[0m\u001b[1;33m)\u001b[0m\u001b[1;33m\u001b[0m\u001b[1;33m\u001b[0m\u001b[0m\n\u001b[0m",
      "\u001b[1;31mNameError\u001b[0m: name 'reload' is not defined"
     ]
    }
   ],
   "source": [
    "reload(fct)"
   ]
  },
  {
   "cell_type": "code",
   "execution_count": 3,
   "metadata": {},
   "outputs": [
    {
     "name": "stdin",
     "output_type": "stream",
     "text": [
      "Choississez la monnaie de départ :  EUR\n",
      "Combien d'argent voulez-vous échanger ? 495\n"
     ]
    }
   ],
   "source": [
    "rates=[\n",
    "    [1,90.452,130.46,1.209,0.8709,7.855,90.515,10.021],\n",
    "    [0.011,1,1.44,0.0133,0.0096,0.0866,0.9974,0.1104],\n",
    "    [0.0077,0.6932,1,0.0093,0.0067,0.0602,0.6937,0.0768],\n",
    "    [0.8265,74.787,107.86,1,0.7203,6.494,74.839,8.284],\n",
    "    [1.146,103.72,149.63,1.389,1,9.007,103.792,11.488],\n",
    "    [0.1273,11.512,16.60,0.1539,0.1109,1,11.52,1.275],\n",
    "    [0.011,0.9983,1.44,0.0134,0.0096,0.0867,1,0.1106],\n",
    "    [0.0995,9.004,12.98,0.1204,0.0867,0.7819,9.01,1]\n",
    "]\n",
    "\n",
    "currencies = ('EUR', 'INR', 'JPY','USD','GBP','CNY','RUB','NOK','FIN')\n",
    "\n",
    "monnaie= input(\"Choississez la monnaie de départ : \")\n",
    "index_monnaie=currencies.index(monnaie)\n",
    "montant= int(input(\"Combien d'argent voulez-vous échanger ?\"))"
   ]
  },
  {
   "cell_type": "markdown",
   "metadata": {},
   "source": [
    "# Trouver chemin"
   ]
  },
  {
   "cell_type": "code",
   "execution_count": 7,
   "metadata": {},
   "outputs": [
    {
     "data": {
      "text/plain": [
       "\u001b[1;31mType:\u001b[0m        module\n",
       "\u001b[1;31mString form:\u001b[0m <module 'fonctions' from 'C:\\\\Users\\\\yoanl\\\\MecenS2\\\\Projet\\\\fonctions.py'>\n",
       "\u001b[1;31mFile:\u001b[0m        c:\\users\\yoanl\\mecens2\\projet\\fonctions.py\n",
       "\u001b[1;31mDocstring:\u001b[0m  \n",
       "Problème d'arbitrage\n",
       "\n",
       "Variables: \n",
       "- rates\n",
       "- currencies\n",
       "- monnaie \n",
       "- index_monnaie\n",
       "- montant\n",
       "\n",
       "Fonctions:\n",
       "- genere_dico\n",
       "- genere_graph\n",
       "- trouve_chemins\n",
       "- genere_matrice_log\n",
       "- genere_gain_chemin\n",
       "- ajout_gain\n",
       "- ordonne\n",
       "- calcul_taxe_echange\n",
       "- ajout_taxe\n",
       "- liste_meilleur_chemin\n",
       "- trouve_meilleur_gain\n",
       "- trouve_meilleur_gain_taxe\n"
      ]
     },
     "metadata": {},
     "output_type": "display_data"
    }
   ],
   "source": [
    "?fct"
   ]
  },
  {
   "cell_type": "code",
   "execution_count": 3,
   "metadata": {},
   "outputs": [
    {
     "data": {
      "text/html": [
       "<pre style=\"white-space:pre;overflow-x:auto;line-height:normal;font-family:Menlo,'DejaVu Sans Mono',consolas,'Courier New',monospace\"><span style=\"font-weight: bold\">{</span><span style=\"color: #008000\">'EUR'</span>: <span style=\"color: #000080; font-weight: bold\">0</span>, <span style=\"color: #008000\">'INR'</span>: <span style=\"color: #000080; font-weight: bold\">1</span>, <span style=\"color: #008000\">'JPY'</span>: <span style=\"color: #000080; font-weight: bold\">2</span>, <span style=\"color: #008000\">'USD'</span>: <span style=\"color: #000080; font-weight: bold\">3</span>, <span style=\"color: #008000\">'GBP'</span>: <span style=\"color: #000080; font-weight: bold\">4</span>, <span style=\"color: #008000\">'CNY'</span>: <span style=\"color: #000080; font-weight: bold\">5</span>, <span style=\"color: #008000\">'RUB'</span>: <span style=\"color: #000080; font-weight: bold\">6</span>, <span style=\"color: #008000\">'FIN'</span>: <span style=\"color: #000080; font-weight: bold\">1</span><span style=\"font-weight: bold\">}</span>\n",
       "</pre>\n"
      ],
      "text/plain": [
       "<rich.jupyter.JupyterRenderable at 0x141148a0220>"
      ]
     },
     "metadata": {},
     "output_type": "display_data"
    }
   ],
   "source": [
    "print(fct.genere_dico(currencies,index_monnaie))"
   ]
  },
  {
   "cell_type": "code",
   "execution_count": 5,
   "metadata": {},
   "outputs": [
    {
     "data": {
      "text/plain": [
       "\u001b[1;31mSignature:\u001b[0m\n",
       "\u001b[0mfct\u001b[0m\u001b[1;33m.\u001b[0m\u001b[0majout_final\u001b[0m\u001b[1;33m(\u001b[0m\u001b[1;33m\n",
       "\u001b[0m    \u001b[0mrates\u001b[0m\u001b[1;33m:\u001b[0m \u001b[0mTuple\u001b[0m\u001b[1;33m[\u001b[0m\u001b[0mTuple\u001b[0m\u001b[1;33m[\u001b[0m\u001b[0mfloat\u001b[0m\u001b[1;33m]\u001b[0m\u001b[1;33m]\u001b[0m\u001b[1;33m,\u001b[0m\u001b[1;33m\n",
       "\u001b[0m    \u001b[0mcurrencies\u001b[0m\u001b[1;33m:\u001b[0m \u001b[0mList\u001b[0m\u001b[1;33m[\u001b[0m\u001b[0mstr\u001b[0m\u001b[1;33m]\u001b[0m\u001b[1;33m,\u001b[0m\u001b[1;33m\n",
       "\u001b[0m    \u001b[0mdepart\u001b[0m\u001b[1;33m:\u001b[0m \u001b[0mstr\u001b[0m\u001b[1;33m,\u001b[0m\u001b[1;33m\n",
       "\u001b[0m    \u001b[0mindex_monnaie\u001b[0m\u001b[1;33m:\u001b[0m \u001b[0mint\u001b[0m\u001b[1;33m,\u001b[0m\u001b[1;33m\n",
       "\u001b[0m    \u001b[0mmontant\u001b[0m\u001b[1;33m:\u001b[0m \u001b[0mint\u001b[0m\u001b[1;33m,\u001b[0m\u001b[1;33m\n",
       "\u001b[0m\u001b[1;33m)\u001b[0m\u001b[1;33m\u001b[0m\u001b[1;33m\u001b[0m\u001b[0m\n",
       "\u001b[1;31mDocstring:\u001b[0m\n",
       "Ajoute le gain avec taxe pour chaque chemin \n",
       "    \n",
       "    Exemple : \n",
       "    >>> rates=[\n",
       "    [1,46.45,130.14],\n",
       "    [0.020,1,2.66],\n",
       "    [0.0077,0.357,1]\n",
       "]\n",
       "    >>> currencies=('EUR', 'ROU', 'YEN','FIN')\n",
       "    >>> monnaie= 'EUR'\n",
       "    >>> index_monnaie=currencies.index(monnaie)\n",
       "    >>> print(ajout_final(rates,currencies,monnaie,index_monnaie))\n",
       "    \n",
       "    [['EUR', 'YEN', 'FIN', 0.9979263091296289, 0.9919477326116333],\n",
       "     ['EUR', 'ROU', 'YEN', 'FIN', 1.0510948782353873, 1.0416633755134195],\n",
       "     ['EUR', 'YEN', 'ROU', 'FIN', 1.0761950392574433, 1.0665383121129202],\n",
       "     ['EUR', 'ROU', 'FIN', 1.0764262648008607, 1.0699773950484388]]\n",
       "    \n",
       "\u001b[1;31mFile:\u001b[0m      c:\\users\\yoanl\\mecens2\\projet\\fonctions.py\n",
       "\u001b[1;31mType:\u001b[0m      function\n"
      ]
     },
     "metadata": {},
     "output_type": "display_data"
    }
   ],
   "source": [
    "?fct.ajout_final"
   ]
  },
  {
   "cell_type": "code",
   "execution_count": 4,
   "metadata": {},
   "outputs": [
    {
     "data": {
      "text/html": [
       "<pre style=\"white-space:pre;overflow-x:auto;line-height:normal;font-family:Menlo,'DejaVu Sans Mono',consolas,'Courier New',monospace\"><span style=\"font-weight: bold\">{</span>\n",
       "    <span style=\"color: #008000\">'EUR'</span>: <span style=\"font-weight: bold\">(</span><span style=\"color: #008000\">'EUR'</span>, <span style=\"color: #008000\">'INR'</span>, <span style=\"color: #008000\">'JPY'</span>, <span style=\"color: #008000\">'USD'</span>, <span style=\"color: #008000\">'GBP'</span>, <span style=\"color: #008000\">'CNY'</span>, <span style=\"color: #008000\">'RUB'</span>, <span style=\"color: #008000\">'FIN'</span><span style=\"font-weight: bold\">)</span>,\n",
       "    <span style=\"color: #008000\">'INR'</span>: <span style=\"font-weight: bold\">(</span><span style=\"color: #008000\">'EUR'</span>, <span style=\"color: #008000\">'INR'</span>, <span style=\"color: #008000\">'JPY'</span>, <span style=\"color: #008000\">'USD'</span>, <span style=\"color: #008000\">'GBP'</span>, <span style=\"color: #008000\">'CNY'</span>, <span style=\"color: #008000\">'RUB'</span><span style=\"font-weight: bold\">)</span>,\n",
       "    <span style=\"color: #008000\">'JPY'</span>: <span style=\"font-weight: bold\">(</span><span style=\"color: #008000\">'EUR'</span>, <span style=\"color: #008000\">'INR'</span>, <span style=\"color: #008000\">'JPY'</span>, <span style=\"color: #008000\">'USD'</span>, <span style=\"color: #008000\">'GBP'</span>, <span style=\"color: #008000\">'CNY'</span>, <span style=\"color: #008000\">'RUB'</span>, <span style=\"color: #008000\">'FIN'</span><span style=\"font-weight: bold\">)</span>,\n",
       "    <span style=\"color: #008000\">'USD'</span>: <span style=\"font-weight: bold\">(</span><span style=\"color: #008000\">'EUR'</span>, <span style=\"color: #008000\">'INR'</span>, <span style=\"color: #008000\">'JPY'</span>, <span style=\"color: #008000\">'USD'</span>, <span style=\"color: #008000\">'GBP'</span>, <span style=\"color: #008000\">'CNY'</span>, <span style=\"color: #008000\">'RUB'</span>, <span style=\"color: #008000\">'FIN'</span><span style=\"font-weight: bold\">)</span>,\n",
       "    <span style=\"color: #008000\">'GBP'</span>: <span style=\"font-weight: bold\">(</span><span style=\"color: #008000\">'EUR'</span>, <span style=\"color: #008000\">'INR'</span>, <span style=\"color: #008000\">'JPY'</span>, <span style=\"color: #008000\">'USD'</span>, <span style=\"color: #008000\">'GBP'</span>, <span style=\"color: #008000\">'CNY'</span>, <span style=\"color: #008000\">'RUB'</span>, <span style=\"color: #008000\">'FIN'</span><span style=\"font-weight: bold\">)</span>,\n",
       "    <span style=\"color: #008000\">'CNY'</span>: <span style=\"font-weight: bold\">(</span><span style=\"color: #008000\">'EUR'</span>, <span style=\"color: #008000\">'INR'</span>, <span style=\"color: #008000\">'JPY'</span>, <span style=\"color: #008000\">'USD'</span>, <span style=\"color: #008000\">'GBP'</span>, <span style=\"color: #008000\">'CNY'</span>, <span style=\"color: #008000\">'RUB'</span>, <span style=\"color: #008000\">'FIN'</span><span style=\"font-weight: bold\">)</span>,\n",
       "    <span style=\"color: #008000\">'RUB'</span>: <span style=\"font-weight: bold\">(</span><span style=\"color: #008000\">'EUR'</span>, <span style=\"color: #008000\">'INR'</span>, <span style=\"color: #008000\">'JPY'</span>, <span style=\"color: #008000\">'USD'</span>, <span style=\"color: #008000\">'GBP'</span>, <span style=\"color: #008000\">'CNY'</span>, <span style=\"color: #008000\">'RUB'</span>, <span style=\"color: #008000\">'FIN'</span><span style=\"font-weight: bold\">)</span>,\n",
       "    <span style=\"color: #008000\">'FIN'</span>: <span style=\"font-weight: bold\">()</span>\n",
       "<span style=\"font-weight: bold\">}</span>\n",
       "</pre>\n"
      ],
      "text/plain": [
       "<rich.jupyter.JupyterRenderable at 0x14116946c70>"
      ]
     },
     "metadata": {},
     "output_type": "display_data"
    }
   ],
   "source": [
    "print(fct.genere_graph(currencies,index_monnaie))"
   ]
  },
  {
   "cell_type": "code",
   "execution_count": 20,
   "metadata": {},
   "outputs": [
    {
     "data": {
      "text/html": [
       "<pre style=\"white-space:pre;overflow-x:auto;line-height:normal;font-family:Menlo,'DejaVu Sans Mono',consolas,'Courier New',monospace\"><span style=\"font-weight: bold\">[</span>\n",
       "    <span style=\"font-weight: bold\">[</span>\n",
       "        <span style=\"color: #008000\">'NOK'</span>,\n",
       "        <span style=\"color: #008000\">'JPY'</span>,\n",
       "        <span style=\"color: #008000\">'RUB'</span>,\n",
       "        <span style=\"color: #008000\">'EUR'</span>,\n",
       "        <span style=\"color: #008000\">'GBP'</span>,\n",
       "        <span style=\"color: #008000\">'CNY'</span>,\n",
       "        <span style=\"color: #008000\">'INR'</span>,\n",
       "        <span style=\"color: #008000\">'USD'</span>,\n",
       "        <span style=\"color: #008000\">'FIN'</span>,\n",
       "        <span style=\"color: #000080; font-weight: bold\">507.38773724083694</span>,\n",
       "        <span style=\"color: #000080; font-weight: bold\">495.3375289565771</span>\n",
       "    <span style=\"font-weight: bold\">]</span>,\n",
       "    <span style=\"font-weight: bold\">[</span>\n",
       "        <span style=\"color: #008000\">'NOK'</span>,\n",
       "        <span style=\"color: #008000\">'JPY'</span>,\n",
       "        <span style=\"color: #008000\">'CNY'</span>,\n",
       "        <span style=\"color: #008000\">'INR'</span>,\n",
       "        <span style=\"color: #008000\">'USD'</span>,\n",
       "        <span style=\"color: #008000\">'RUB'</span>,\n",
       "        <span style=\"color: #008000\">'EUR'</span>,\n",
       "        <span style=\"color: #008000\">'GBP'</span>,\n",
       "        <span style=\"color: #008000\">'FIN'</span>,\n",
       "        <span style=\"color: #000080; font-weight: bold\">507.41467142996635</span>,\n",
       "        <span style=\"color: #000080; font-weight: bold\">495.36382347201095</span>\n",
       "    <span style=\"font-weight: bold\">]</span>,\n",
       "    <span style=\"font-weight: bold\">[</span>\n",
       "        <span style=\"color: #008000\">'NOK'</span>,\n",
       "        <span style=\"color: #008000\">'JPY'</span>,\n",
       "        <span style=\"color: #008000\">'INR'</span>,\n",
       "        <span style=\"color: #008000\">'USD'</span>,\n",
       "        <span style=\"color: #008000\">'RUB'</span>,\n",
       "        <span style=\"color: #008000\">'EUR'</span>,\n",
       "        <span style=\"color: #008000\">'GBP'</span>,\n",
       "        <span style=\"color: #008000\">'CNY'</span>,\n",
       "        <span style=\"color: #008000\">'FIN'</span>,\n",
       "        <span style=\"color: #000080; font-weight: bold\">507.46467704840103</span>,\n",
       "        <span style=\"color: #000080; font-weight: bold\">495.41264148169336</span>\n",
       "    <span style=\"font-weight: bold\">]</span>,\n",
       "    <span style=\"font-weight: bold\">[</span>\n",
       "        <span style=\"color: #008000\">'NOK'</span>,\n",
       "        <span style=\"color: #008000\">'JPY'</span>,\n",
       "        <span style=\"color: #008000\">'INR'</span>,\n",
       "        <span style=\"color: #008000\">'USD'</span>,\n",
       "        <span style=\"color: #008000\">'CNY'</span>,\n",
       "        <span style=\"color: #008000\">'RUB'</span>,\n",
       "        <span style=\"color: #008000\">'EUR'</span>,\n",
       "        <span style=\"color: #008000\">'GBP'</span>,\n",
       "        <span style=\"color: #008000\">'FIN'</span>,\n",
       "        <span style=\"color: #000080; font-weight: bold\">507.47534895793154</span>,\n",
       "        <span style=\"color: #000080; font-weight: bold\">495.4230599386408</span>\n",
       "    <span style=\"font-weight: bold\">]</span>,\n",
       "    <span style=\"font-weight: bold\">[</span>\n",
       "        <span style=\"color: #008000\">'NOK'</span>,\n",
       "        <span style=\"color: #008000\">'JPY'</span>,\n",
       "        <span style=\"color: #008000\">'RUB'</span>,\n",
       "        <span style=\"color: #008000\">'EUR'</span>,\n",
       "        <span style=\"color: #008000\">'GBP'</span>,\n",
       "        <span style=\"color: #008000\">'INR'</span>,\n",
       "        <span style=\"color: #008000\">'USD'</span>,\n",
       "        <span style=\"color: #008000\">'CNY'</span>,\n",
       "        <span style=\"color: #008000\">'FIN'</span>,\n",
       "        <span style=\"color: #000080; font-weight: bold\">507.48828758392426</span>,\n",
       "        <span style=\"color: #000080; font-weight: bold\">495.43569127865345</span>\n",
       "    <span style=\"font-weight: bold\">]</span>\n",
       "<span style=\"font-weight: bold\">]</span>\n",
       "</pre>\n"
      ],
      "text/plain": [
       "<rich.jupyter.JupyterRenderable at 0x14116b05e50>"
      ]
     },
     "metadata": {},
     "output_type": "display_data"
    }
   ],
   "source": [
    "print(fct.ajout_final(rates,currencies,monnaie,index_monnaie,montant)[-5:])"
   ]
  },
  {
   "cell_type": "code",
   "execution_count": 31,
   "metadata": {},
   "outputs": [
    {
     "data": {
      "text/html": [
       "<pre style=\"white-space:pre;overflow-x:auto;line-height:normal;font-family:Menlo,'DejaVu Sans Mono',consolas,'Courier New',monospace\"><span style=\"font-weight: bold\">(</span>\n",
       "    <span style=\"font-weight: bold\">[</span><span style=\"color: #008000\">'NOK'</span>, <span style=\"color: #008000\">'JPY'</span>, <span style=\"color: #008000\">'RUB'</span>, <span style=\"color: #008000\">'EUR'</span>, <span style=\"color: #008000\">'GBP'</span>, <span style=\"color: #008000\">'INR'</span>, <span style=\"color: #008000\">'USD'</span>, <span style=\"color: #008000\">'CNY'</span>, <span style=\"color: #008000\">'NOK'</span><span style=\"font-weight: bold\">]</span>,\n",
       "    <span style=\"color: #000080; font-weight: bold\">507.48829</span>,\n",
       "    <span style=\"font-weight: bold\">[</span><span style=\"color: #008000\">'NOK'</span>, <span style=\"color: #008000\">'INR'</span>, <span style=\"color: #008000\">'USD'</span>, <span style=\"color: #008000\">'RUB'</span>, <span style=\"color: #008000\">'EUR'</span>, <span style=\"color: #008000\">'GBP'</span>, <span style=\"color: #008000\">'NOK'</span><span style=\"font-weight: bold\">]</span>,\n",
       "    <span style=\"color: #000080; font-weight: bold\">503.89776</span>\n",
       "<span style=\"font-weight: bold\">)</span>\n",
       "</pre>\n"
      ],
      "text/plain": [
       "<rich.jupyter.JupyterRenderable at 0x14116c40e80>"
      ]
     },
     "metadata": {},
     "output_type": "display_data"
    }
   ],
   "source": [
    "print(fct.liste_meilleur_chemin(rates,currencies,monnaie,index_monnaie,montant))"
   ]
  },
  {
   "cell_type": "markdown",
   "metadata": {},
   "source": [
    "# Résultat"
   ]
  },
  {
   "cell_type": "markdown",
   "metadata": {},
   "source": [
    "### Meilleure conversion sans taxe"
   ]
  },
  {
   "cell_type": "markdown",
   "metadata": {},
   "source": [
    "Si nous supposons qu'il n'existe pas de taxe quand il y a échange de monnaie, le chemin qui rapporte le plus d'argent est donc :"
   ]
  },
  {
   "cell_type": "code",
   "execution_count": 29,
   "metadata": {},
   "outputs": [
    {
     "name": "stdout",
     "output_type": "stream",
     "text": [
      "Ce chemin rapporte 507.48829 NOK pour 500 NOK\n"
     ]
    },
    {
     "data": {
      "text/html": [
       "<pre style=\"white-space:pre;overflow-x:auto;line-height:normal;font-family:Menlo,'DejaVu Sans Mono',consolas,'Courier New',monospace\"><span style=\"font-weight: bold\">[</span><span style=\"color: #008000\">'NOK'</span>, <span style=\"color: #008000\">'JPY'</span>, <span style=\"color: #008000\">'RUB'</span>, <span style=\"color: #008000\">'EUR'</span>, <span style=\"color: #008000\">'GBP'</span>, <span style=\"color: #008000\">'INR'</span>, <span style=\"color: #008000\">'USD'</span>, <span style=\"color: #008000\">'CNY'</span>, <span style=\"color: #008000\">'NOK'</span><span style=\"font-weight: bold\">]</span>\n",
       "</pre>\n"
      ],
      "text/plain": [
       "<rich.jupyter.JupyterRenderable at 0x141148a0c70>"
      ]
     },
     "metadata": {},
     "output_type": "display_data"
    }
   ],
   "source": [
    "print(fct.trouve_meilleur_gain(rates,currencies,monnaie,index_monnaie,montant)[0])"
   ]
  },
  {
   "cell_type": "markdown",
   "metadata": {},
   "source": [
    "### Meilleure conversion avec taxe"
   ]
  },
  {
   "cell_type": "markdown",
   "metadata": {},
   "source": [
    "Par contre, il peut exister des taxes entre chaque échange. Ce taux de change va dépendre du montant de départ : Si le montant est : \n",
    "\n",
    "- Inférieur à 200 : le taux sera de 0,8% \n",
    "- Compris entre 200 et 500 : 0,3%\n",
    "- Supérieur à 500 : 0,1%"
   ]
  },
  {
   "cell_type": "code",
   "execution_count": 30,
   "metadata": {},
   "outputs": [
    {
     "name": "stdout",
     "output_type": "stream",
     "text": [
      "Ce chemin rapporte 503.89776 NOK pour 500 NOK avec une taxe à  0.1 %\n"
     ]
    },
    {
     "data": {
      "text/html": [
       "<pre style=\"white-space:pre;overflow-x:auto;line-height:normal;font-family:Menlo,'DejaVu Sans Mono',consolas,'Courier New',monospace\"><span style=\"font-weight: bold\">[</span><span style=\"color: #008000\">'NOK'</span>, <span style=\"color: #008000\">'INR'</span>, <span style=\"color: #008000\">'USD'</span>, <span style=\"color: #008000\">'RUB'</span>, <span style=\"color: #008000\">'EUR'</span>, <span style=\"color: #008000\">'GBP'</span>, <span style=\"color: #008000\">'NOK'</span><span style=\"font-weight: bold\">]</span>\n",
       "</pre>\n"
      ],
      "text/plain": [
       "<rich.jupyter.JupyterRenderable at 0x1411489bdc0>"
      ]
     },
     "metadata": {},
     "output_type": "display_data"
    }
   ],
   "source": [
    "print(fct.trouve_meilleur_gain_taxe(rates,currencies,monnaie,index_monnaie,montant)[2])"
   ]
  },
  {
   "cell_type": "markdown",
   "metadata": {},
   "source": [
    "# Application"
   ]
  },
  {
   "cell_type": "code",
   "execution_count": 10,
   "metadata": {},
   "outputs": [],
   "source": [
    "from main import HomePage"
   ]
  }
 ],
 "metadata": {
  "kernelspec": {
   "display_name": "Python 3",
   "language": "python",
   "name": "python3"
  },
  "language_info": {
   "codemirror_mode": {
    "name": "ipython",
    "version": 3
   },
   "file_extension": ".py",
   "mimetype": "text/x-python",
   "name": "python",
   "nbconvert_exporter": "python",
   "pygments_lexer": "ipython3",
   "version": "3.8.3"
  }
 },
 "nbformat": 4,
 "nbformat_minor": 4
}
